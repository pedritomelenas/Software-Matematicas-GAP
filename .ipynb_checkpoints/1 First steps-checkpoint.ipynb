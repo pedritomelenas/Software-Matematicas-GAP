{
 "cells": [
  {
   "cell_type": "markdown",
   "metadata": {},
   "source": [
    "# First steps in `GAP`\n",
    "\n",
    "`GAP` is a discrete algebraic computing environment (`GAP` stands for Groups, Algorithms, and Programming). It has a core implemented in `c` and has separate libraries written in its own programming language. \n",
    "\n",
    "This language is procedural, so people who have programmed in `pascal`, `c`, `maple`, ... have no problems in adapting. On the official [`GAP`](https://www.gap-system.org) website you can find a lot of information concerning installation on different platforms, tutorials, manuals, and packages.\n",
    "\n",
    "`GAP` packages go through a refereeing process similar to that of scientific journals. They are first deposited (and publicly accessible on the official website) and if accepted they become part of the distribution. \n",
    "\n",
    "`GAP` has been maintained throughout its history by several universities, and is supported by contributions from users in the form of packages for more specific purposes."
   ]
  },
  {
   "cell_type": "markdown",
   "metadata": {},
   "source": [
    "## Command line\n",
    "\n",
    "`GAP` is an interpreted language (although it has a compiler). Operations can be performed directly on the command line, or scripted files written in a text editor can be read. \n",
    "\n",
    "`GAP` is normally invoked using the `gap` command, although depending on the operating system there may be different alternatives. Once the interpreter is started, a command line appears that looks like this.\n",
    "\n",
    "```gap\n",
    "gap>\n",
    "```\n",
    "\n",
    "To edit the entries you want to evaluate, you can use the arrow keys together with the start and end keys. There is also the possibility of using key combinations similar to those used in a unix shell (`ctr-[b,f,p,n,a,e]`). The tab key is used to complete commands from the text you have entered at that moment. Thus typing `Gcd+TAB` results in:\n",
    "\n",
    "```\n",
    "gap> Gcd\n",
    "    Gcd\n",
    "    GcdCoeffs\n",
    "    GcdInt\n",
    "    GcdOp\n",
    "    GcdRepresentation\n",
    "    GcdRepresentationOp\n",
    "    Gcdex\n",
    "```\n",
    "\n",
    "To exit the command line, you can use the command `quit;`, or press `ctr-d`.\n",
    "\n",
    "The end of a line is not indicated by a carriage return, but by `;` (to evaluate, press `enter`). This allows you to write multi-line statements.\n",
    "\n",
    "```gap\n",
    "gap> 1+\n",
    "> 2;\n",
    "3\n",
    "```\n",
    "On `jupyter` to evaluate you have to press `shift+enter`."
   ]
  },
  {
   "cell_type": "code",
   "execution_count": 1,
   "metadata": {
    "vscode": {
     "languageId": "gap 4"
    }
   },
   "outputs": [
    {
     "data": {
      "text/plain": [
       "6"
      ]
     },
     "execution_count": 1,
     "metadata": {
      "text/plain": ""
     },
     "output_type": "execute_result"
    }
   ],
   "source": [
    "1+\n",
    "2+3;"
   ]
  },
  {
   "cell_type": "markdown",
   "metadata": {},
   "source": [
    "The working session can be stored in a file for later editing using the `LogTo` command. With `LogTo(\"tests/log\");` we save to the `log` file in the `tests` folder. With `LogTo();` we interrupt the recording."
   ]
  },
  {
   "cell_type": "markdown",
   "metadata": {},
   "source": [
    "We can read a script with the `Read` command (in this example `one.g` contains only `a:=1;`)."
   ]
  },
  {
   "cell_type": "code",
   "execution_count": 2,
   "metadata": {
    "vscode": {
     "languageId": "gap 4"
    }
   },
   "outputs": [],
   "source": [
    "Read(\"pruebas/uno.g\");"
   ]
  },
  {
   "cell_type": "code",
   "execution_count": 3,
   "metadata": {
    "vscode": {
     "languageId": "gap 4"
    }
   },
   "outputs": [
    {
     "data": {
      "text/plain": [
       "1"
      ]
     },
     "execution_count": 3,
     "metadata": {
      "text/plain": ""
     },
     "output_type": "execute_result"
    }
   ],
   "source": [
    "a;"
   ]
  },
  {
   "cell_type": "markdown",
   "metadata": {},
   "source": [
    "Note that the slashes are in the form `/`, even on windows.\n",
    "\n",
    "Help is accessed using a question mark. For example, `?LogTo` shows help for that command."
   ]
  },
  {
   "cell_type": "markdown",
   "metadata": {},
   "source": [
    "The operations of addition and product depend on the arguments that accompany them. They can represent the sum of integers, or of matrices, or of vector subspaces... The product can even mean the composition of two permutations, and the power (`^`) the image of a point by a permutation."
   ]
  },
  {
   "cell_type": "code",
   "execution_count": 4,
   "metadata": {
    "vscode": {
     "languageId": "gap 4"
    }
   },
   "outputs": [
    {
     "data": {
      "text/plain": [
       "[ 2, 4, 10, 8 ]"
      ]
     },
     "execution_count": 4,
     "metadata": {
      "text/plain": ""
     },
     "output_type": "execute_result"
    }
   ],
   "source": [
    "[1,2,3]+[1,2,7,8];"
   ]
  },
  {
   "cell_type": "code",
   "execution_count": 5,
   "metadata": {
    "vscode": {
     "languageId": "gap 4"
    }
   },
   "outputs": [
    {
     "data": {
      "text/plain": [
       "(1,5,2)"
      ]
     },
     "execution_count": 5,
     "metadata": {
      "text/plain": ""
     },
     "output_type": "execute_result"
    }
   ],
   "source": [
    "(1,2)*(2,5);"
   ]
  },
  {
   "cell_type": "code",
   "execution_count": 6,
   "metadata": {
    "vscode": {
     "languageId": "gap 4"
    }
   },
   "outputs": [
    {
     "data": {
      "text/plain": [
       "2"
      ]
     },
     "execution_count": 6,
     "metadata": {
      "text/plain": ""
     },
     "output_type": "execute_result"
    }
   ],
   "source": [
    "1^(1,2,3);"
   ]
  },
  {
   "cell_type": "markdown",
   "metadata": {},
   "source": [
    "The symbols `=`, `<`, `>`, `<=`, `>=`, and `<>` are used to denote equality, less than, greater than, less than or equal, greater than or equal, and different, respectively sirven para denotar igualdad, ser mayor, menor, menor o igual, mayor o igual y distinto, respectivamente."
   ]
  },
  {
   "cell_type": "code",
   "execution_count": 7,
   "metadata": {
    "vscode": {
     "languageId": "gap 4"
    }
   },
   "outputs": [
    {
     "data": {
      "text/plain": [
       "true"
      ]
     },
     "execution_count": 7,
     "metadata": {
      "text/plain": ""
     },
     "output_type": "execute_result"
    }
   ],
   "source": [
    "2=1+1;"
   ]
  },
  {
   "cell_type": "code",
   "execution_count": 8,
   "metadata": {
    "vscode": {
     "languageId": "gap 4"
    }
   },
   "outputs": [
    {
     "data": {
      "text/plain": [
       "true"
      ]
     },
     "execution_count": 8,
     "metadata": {
      "text/plain": ""
     },
     "output_type": "execute_result"
    }
   ],
   "source": [
    "[1,2]<[3];"
   ]
  },
  {
   "cell_type": "code",
   "execution_count": 9,
   "metadata": {
    "vscode": {
     "languageId": "gap 4"
    }
   },
   "outputs": [
    {
     "data": {
      "text/plain": [
       "false"
      ]
     },
     "execution_count": 9,
     "metadata": {
      "text/plain": ""
     },
     "output_type": "execute_result"
    }
   ],
   "source": [
    "[1,2]>[1,3];"
   ]
  },
  {
   "cell_type": "code",
   "execution_count": 10,
   "metadata": {
    "vscode": {
     "languageId": "gap 4"
    }
   },
   "outputs": [
    {
     "data": {
      "text/plain": [
       "false"
      ]
     },
     "execution_count": 10,
     "metadata": {
      "text/plain": ""
     },
     "output_type": "execute_result"
    }
   ],
   "source": [
    "1<>1;"
   ]
  },
  {
   "cell_type": "markdown",
   "metadata": {},
   "source": [
    "# Identifiers\n",
    "\n",
    "If we are going to use an object several times, we can assign it a name for convenience."
   ]
  },
  {
   "cell_type": "code",
   "execution_count": 11,
   "metadata": {
    "vscode": {
     "languageId": "gap 4"
    }
   },
   "outputs": [
    {
     "data": {
      "text/plain": [
       "1024"
      ]
     },
     "execution_count": 11,
     "metadata": {
      "text/plain": ""
     },
     "output_type": "execute_result"
    }
   ],
   "source": [
    "a:=2^10;"
   ]
  },
  {
   "cell_type": "markdown",
   "metadata": {},
   "source": [
    "If we want to inhibit the output, we write an extra semicolon at the end of the assignment."
   ]
  },
  {
   "cell_type": "code",
   "execution_count": 12,
   "metadata": {
    "vscode": {
     "languageId": "gap 4"
    }
   },
   "outputs": [],
   "source": [
    "b:=a;;"
   ]
  },
  {
   "cell_type": "markdown",
   "metadata": {},
   "source": [
    "We can visualise the variables defined so far as follows."
   ]
  },
  {
   "cell_type": "code",
   "execution_count": 13,
   "metadata": {
    "vscode": {
     "languageId": "gap 4"
    }
   },
   "outputs": [
    {
     "data": {
      "text/plain": [
       "[ \"AcceptNewConnection\", \"AttachServingSocket\", \"BGJobByForkType\", \"BackgroundJobByFork\", \"BackgroundJobByForkChild\", \"BackgroundJobByForkOptions\", \"BackgroundJobsFamily\", \"CRYPTING_HexStringIntPad\", \"CRYPTING_HexStringIntPad8\", \"CRYPTING_SHA256_FINAL\", \"CRYPTING_SHA256_HMAC\", \"CRYPTING_SHA256_INIT\", \"CRYPTING_SHA256_State_Family\", \"CRYPTING_SHA256_State_Type\", \"CRYPTING_SHA256_UPDATE\", \"ChangeDirectoryCurrent\", \"CheckForUpdates\", \"CloseConnection\", \"CloseHTTPConnection\", \"CompareTimes\", \"DifferenceTimes\", \"DoIO\", \"DoQueues\", \"FileFamily\", \"FileType\", \"FixChunkedBody\", \"GAPJupyterKernelType\", \"GET_HELP_URL\", \"GapToJsonStream\", \"GapToJsonString\", \"GetInput\", \"GetLenFrom8Bytes\", \"HMACSHA256\", \"HPCGAPJupyterKernelType\", \"HTTPRequest\", \"HTTPTimeoutForSelect\", \"HasJupyterRenderableData\", \"HasJupyterRenderableMetadata\", \"HasProcessID\", \"HasTerminated\", \"HexStringUUID\", \"IO\", \"IOHub\", \"IOHubFamily\", \"IOHubType\", \"IO_AddToPickled\", \"IO_AddToUnpickled\", \"IO_ClearPickleCache\", \"IO_Close\", \"IO_CloseAllFDs\", \"IO_CompressedFile\", \"IO_EOF\", \"IO_Environment\", \"IO_Error\", \"IO_File\", \"IO_FileFilterString\", \"IO_FilteredFile\", \"IO_FinalizePickled\", \"IO_FinalizeUnpickled\", \"IO_FindExecutable\", \"IO_Flush\", \"IO_FlushNonBlocking\", \"IO_ForkExecWithFDs\", \"IO_GenericObjectPickler\", \"IO_GenericObjectUnpickler\", \"IO_GetFD\", \"IO_GetWBuf\", \"IO_HasData\", \"IO_IgnorePid\", \"IO_InstallSIGCHLDHandler\", \"IO_IsAlreadyPickled\", \"IO_ListDir\", \"IO_MakeEnvList\", \"IO_MakeIPAddressPort\", \"IO_Nothing\", \"IO_OK\", \"IO_PICKLECACHE\", \"IO_PackageIsLoaded\", \"IO_Pickle\", \"IO_PickleByString\", \"IO_PipeThrough\", \"IO_PipeThroughWithError\", \"IO_Popen\", \"IO_Popen2\", \"IO_Popen3\", \"IO_Read\", \"IO_ReadAttribute\", \"IO_ReadBlock\", \"IO_ReadLine\", \"IO_ReadLines\", \"IO_ReadSmallInt\", \"IO_ReadUntilEOF\", \"IO_ReadyForFlush\", \"IO_ReadyForWrite\", \"IO_RestoreSIGCHLDHandler\", \"IO_Result\", \"IO_ResultsFamily\", \"IO_Select\", \"IO_SendStringBackground\", \"IO_StartPipeline\", \"IO_StringFilterFile\", \"IO_Unpickle\", \"IO_UnpickleByEvalString\", \"IO_UnpickleByFunction\", \"IO_Unpicklers\", \"IO_WaitPid\", \"IO_WrapFD\", \"IO_Write\", \"IO_WriteAttribute\", \"IO_WriteFlush\", \"IO_WriteLine\", \"IO_WriteLines\", \"IO_WriteNonBlocking\", \"IO_WriteSmallInt\", \"IO_accept\", \"IO_bind\", \"IO_chdir\", \"IO_chmod\", \"IO_chown\", \"IO_close\", \"IO_closedir\", \"IO_connect\", \"IO_creat\", \"IO_dup\", \"IO_dup2\", \"IO_environ\", \"IO_execv\", \"IO_execve\", \"IO_execvp\", \"IO_exit\", \"IO_fchmod\", \"IO_fchown\", \"IO_fcntl\", \"IO_fork\", \"IO_fstat\", \"IO_getcwd\", \"IO_gethostbyname\", \"IO_gethostname\", \"IO_getpid\", \"IO_getppid\", \"IO_getsockname\", \"IO_getsockopt\", \"IO_gettimeofday\", \"IO_gmtime\", \"IO_kill\", \"IO_lchown\", \"IO_link\", \"IO_listen\", \"IO_localtime\", \"IO_lseek\", \"IO_lstat\", \"IO_make_sockaddr_in\", \"IO_mkdir\", \"IO_mkdtemp\", \"IO_mkfifo\", \"IO_mknod\", \"IO_mkstemp\", \"IO_open\", \"IO_opendir\", \"IO_pipe\", \"IO_read\", \"IO_readdir\", \"IO_readlink\", \"IO_recv\", \"IO_recvfrom\", \"IO_rename\", \"IO_rewinddir\", \"IO_rmdir\", \"IO_seekdir\", \"IO_select\", \"IO_send\", \"IO_sendto\", \"IO_setsockopt\", \"IO_socket\", \"IO_stat\", \"IO_symlink\", \"IO_telldir\", \"IO_unlink\", \"IO_write\", \"ISO8601Stamp\", \"InfoIO\", \"InputQueue\", \"IsBackgroundJob\", \"IsBackgroundJobByFork\", \"IsFile\", \"IsGAPJupyterKernel\", \"IsHPCGAPJupyterKernel\", \"IsIOHub\", \"IsIOHubCat\", \"IsIdle\", \"IsJupyterKernel\", \"IsJupyterRenderable\", \"IsJupyterRenderableRep\", \"IsOutputStreamZmqRep\", \"IsRealRandomSource\", \"IsSHA256State\", \"IsUUID\", \"IsUUIDBlistRep\", \"IsWorkerFarm\", \"IsWorkerFarmByFork\", \"IsZmqSocket\", \"JSON_ESCAPE_STRING\", \"JSON_STREAM_TO_GAP\", \"JSON_STRING_TO_GAP\", \"JUPYTER_Complete\", \"JUPYTER_FindHelp\", \"JUPYTER_FindManSection\", \"JUPYTER_FormatKnown\", \"JUPYTER_HELP\", \"JUPYTER_HELP_SHOW_MATCHES\", \"JUPYTER_Inspect\", \"JUPYTER_KERNEL_MODE_CONTROL\", \"JUPYTER_KERNEL_MODE_EXEC\", \"JUPYTER_KernelLoop\", \"JUPYTER_KernelStart_GAP\", \"JUPYTER_KernelStart_HPC\", \"JUPYTER_LogProtocol\", \"JUPYTER_UnlogProtocol\", \"JUPYTER_print\", \"JsonStreamToGap\", \"JsonStringToGap\", \"JupyterDefaultKernelConfig\", \"JupyterMsg\", \"JupyterMsgDecode\", \"JupyterMsgEncode\", \"JupyterMsgRecv\", \"JupyterMsgSend\", \"JupyterRender\", \"JupyterRenderable\", \"JupyterRenderableData\", \"JupyterRenderableMetadata\", \"JupyterRenderableType\", \"JupyterSplashDot\", \"JupyterSplashSubgroupLattice\", \"JupyterSplashTikZ\", \"Kill\", \"LastReadValue\", \"NewConnection\", \"NewJupyterKernel\", \"NewTCPConnection\", \"NewUUID\", \"OpenHTTPConnection\", \"OutputQueue\", \"OutputStreamZmq\", \"OutputStreamZmqType\", \"ParDoByFork\", \"ParDoByForkOptions\", \"ParListByFork\", \"ParListByForkOptions\", \"ParListWorker\", \"ParMapReduceByFork\", \"ParMapReduceByForkOptions\", \"ParMapReduceWorker\", \"ParTakeFirstResultByFork\", \"ParTakeFirstResultByForkOptions\", \"ParWorkerFarmByFork\", \"ParWorkerFarmByForkOptions\", \"Pickup\", \"ProcessID\", \"RandomUUID\", \"ReadWeb\", \"Run\", \"SHA256String\", \"SetJupyterRenderableData\", \"SetJupyterRenderableMetadata\", \"SetProcessID\", \"Shutdown\", \"ShutdownServingSocket\", \"SingleHTTPRequest\", \"StoreLenIn8Bytes\", \"StringUUID\", \"Submit\", \"SubmitOutput\", \"SynchronizationFamily\", \"TYPE_ZMQ_SOCKET\", \"UUIDFamily\", \"UUIDType\", \"WaitUntilIdle\", \"WorkerFarmByForkType\", \"WorkerFarmsFamily\", \"ZmqAttach\", \"ZmqAttachedSocket\", \"ZmqBind\", \"ZmqClose\", \"ZmqConnect\", \"ZmqDealerSocket\", \"ZmqGetIdentity\", \"ZmqGetReceiveBufferSize\", \"ZmqGetReceiveCapacity\", \"ZmqGetSendBufferSize\", \"ZmqGetSendCapacity\", \"ZmqHasMore\", \"ZmqIsBound\", \"ZmqIsConnected\", \"ZmqIsOpen\", \"ZmqPoll\", \"ZmqPublisherSocket\", \"ZmqPullSocket\", \"ZmqPushSocket\", \"ZmqReceive\", \"ZmqReceiveList\", \"ZmqReceiveListAsString\", \"ZmqReplySocket\", \"ZmqRequestSocket\", \"ZmqRouterSocket\", \"ZmqSend\", \"ZmqSetIdentity\", \"ZmqSetReceiveBufferSize\", \"ZmqSetReceiveCapacity\", \"ZmqSetSendBufferSize\", \"ZmqSetSendCapacity\", \"ZmqSocket\", \"ZmqSocketType\", \"ZmqSocketURI\", \"ZmqSubscribe\", \"ZmqSubscriberSocket\", \"ZmqUnsubscribe\", \"_BUFFER\", \"_GapToJsonStreamInternal\", \"_JSON_Globals\", \"_JSON_addRef\", \"_JSON_clearRefs\", \"_KERNEL\", \"a\", \"b\" ]"
      ]
     },
     "execution_count": 13,
     "metadata": {
      "text/plain": ""
     },
     "output_type": "execute_result"
    }
   ],
   "source": [
    "NamesUserGVars();"
   ]
  },
  {
   "cell_type": "markdown",
   "metadata": {},
   "source": [
    "Variables in `gap` have no type, the characteristics of the object they refer to are stored in the object itself. In fact, we can reuse the same variable to denote different types of data."
   ]
  },
  {
   "cell_type": "code",
   "execution_count": 14,
   "metadata": {
    "vscode": {
     "languageId": "gap 4"
    }
   },
   "outputs": [
    {
     "data": {
      "text/plain": [
       "1"
      ]
     },
     "execution_count": 14,
     "metadata": {
      "text/plain": ""
     },
     "output_type": "execute_result"
    }
   ],
   "source": [
    "a:=1;"
   ]
  },
  {
   "cell_type": "code",
   "execution_count": 15,
   "metadata": {
    "vscode": {
     "languageId": "gap 4"
    }
   },
   "outputs": [
    {
     "data": {
      "text/plain": [
       "(1,2)"
      ]
     },
     "execution_count": 15,
     "metadata": {
      "text/plain": ""
     },
     "output_type": "execute_result"
    }
   ],
   "source": [
    "a:=(1,2);"
   ]
  },
  {
   "cell_type": "code",
   "execution_count": 16,
   "metadata": {
    "vscode": {
     "languageId": "gap 4"
    }
   },
   "outputs": [
    {
     "data": {
      "text/plain": [
       "[ 1, 2 ]"
      ]
     },
     "execution_count": 16,
     "metadata": {
      "text/plain": ""
     },
     "output_type": "execute_result"
    }
   ],
   "source": [
    "a:=[1,2];"
   ]
  },
  {
   "cell_type": "markdown",
   "metadata": {},
   "source": [
    "The `last` identifier is used to refer to the last output (`last2` and `last3` are also available)."
   ]
  },
  {
   "cell_type": "markdown",
   "metadata": {},
   "source": [
    "In `gap` there is a convention of writing global variables and variables used in libraries starting with capital letters.\n",
    "\n",
    "Functions are also objects, and can be defined in various ways. We can use a classical procedure."
   ]
  },
  {
   "cell_type": "code",
   "execution_count": 17,
   "metadata": {
    "vscode": {
     "languageId": "gap 4"
    }
   },
   "outputs": [
    {
     "data": {
      "text/plain": [
       "function( x ) ... end"
      ]
     },
     "execution_count": 17,
     "metadata": {
      "text/plain": ""
     },
     "output_type": "execute_result"
    }
   ],
   "source": [
    "f:=function(x)\n",
    "    return x^2;\n",
    "end;"
   ]
  },
  {
   "cell_type": "code",
   "execution_count": 18,
   "metadata": {
    "vscode": {
     "languageId": "gap 4"
    }
   },
   "outputs": [
    {
     "data": {
      "text/plain": [
       "9"
      ]
     },
     "execution_count": 18,
     "metadata": {
      "text/plain": ""
     },
     "output_type": "execute_result"
    }
   ],
   "source": [
    "f(3);"
   ]
  },
  {
   "cell_type": "markdown",
   "metadata": {},
   "source": [
    "And we can also use $\\lambda$-calculus-style notation."
   ]
  },
  {
   "cell_type": "code",
   "execution_count": 20,
   "metadata": {
    "vscode": {
     "languageId": "gap 4"
    }
   },
   "outputs": [
    {
     "data": {
      "text/plain": [
       "function( x ) ... end"
      ]
     },
     "execution_count": 19,
     "metadata": {
      "text/plain": ""
     },
     "output_type": "execute_result"
    },
    {
     "data": {
      "text/plain": [
       "9"
      ]
     },
     "execution_count": 20,
     "metadata": {
      "text/plain": ""
     },
     "output_type": "execute_result"
    }
   ],
   "source": [
    "g:=x->x^2;\n",
    "g(3);"
   ]
  },
  {
   "cell_type": "markdown",
   "metadata": {},
   "source": [
    "# Lists\n",
    "\n",
    "Lists in `gap` are written, as we have already seen in some examples above, as a sequence of elements delimited by square brackets. Such sequences need not be homogeneous. When working with lists we have to pay attention to some functions that are 'destructive', that is, they modify some of the arguments passed to them. This is partly because when you assign an identifier to a list, you do not assign it to the object as such, but to its position in memory."
   ]
  },
  {
   "cell_type": "code",
   "execution_count": 21,
   "metadata": {
    "vscode": {
     "languageId": "gap 4"
    }
   },
   "outputs": [
    {
     "data": {
      "text/plain": [
       "[ 1, \"a\" ]"
      ]
     },
     "execution_count": 21,
     "metadata": {
      "text/plain": ""
     },
     "output_type": "execute_result"
    }
   ],
   "source": [
    "a:=[1,\"a\"];"
   ]
  },
  {
   "cell_type": "code",
   "execution_count": 22,
   "metadata": {
    "vscode": {
     "languageId": "gap 4"
    }
   },
   "outputs": [
    {
     "data": {
      "text/plain": [
       "[ 1, \"a\" ]"
      ]
     },
     "execution_count": 22,
     "metadata": {
      "text/plain": ""
     },
     "output_type": "execute_result"
    }
   ],
   "source": [
    "b:=a;"
   ]
  },
  {
   "cell_type": "code",
   "execution_count": 23,
   "metadata": {
    "vscode": {
     "languageId": "gap 4"
    }
   },
   "outputs": [
    {
     "data": {
      "text/plain": [
       "3"
      ]
     },
     "execution_count": 23,
     "metadata": {
      "text/plain": ""
     },
     "output_type": "execute_result"
    }
   ],
   "source": [
    "b[2]:=3;"
   ]
  },
  {
   "cell_type": "code",
   "execution_count": 24,
   "metadata": {
    "vscode": {
     "languageId": "gap 4"
    }
   },
   "outputs": [
    {
     "data": {
      "text/plain": [
       "[ 1, 3 ]"
      ]
     },
     "execution_count": 24,
     "metadata": {
      "text/plain": ""
     },
     "output_type": "execute_result"
    }
   ],
   "source": [
    "a;"
   ]
  },
  {
   "cell_type": "markdown",
   "metadata": {},
   "source": [
    "As we have seen in this example `list[n]` accesses the `n`th element of the list (starting at 1; in other languages the first position is the one corresponding to index 0)."
   ]
  },
  {
   "cell_type": "markdown",
   "metadata": {},
   "source": [
    "We can use the `ShallowCopy` command to make a copy of a list, creating a new object."
   ]
  },
  {
   "cell_type": "code",
   "execution_count": 25,
   "metadata": {
    "vscode": {
     "languageId": "gap 4"
    }
   },
   "outputs": [
    {
     "data": {
      "text/plain": [
       "[ 1, \"a\" ]"
      ]
     },
     "execution_count": 25,
     "metadata": {
      "text/plain": ""
     },
     "output_type": "execute_result"
    }
   ],
   "source": [
    "a:=[1,\"a\"];"
   ]
  },
  {
   "cell_type": "code",
   "execution_count": 26,
   "metadata": {
    "vscode": {
     "languageId": "gap 4"
    }
   },
   "outputs": [
    {
     "data": {
      "text/plain": [
       "[ 1, \"a\" ]"
      ]
     },
     "execution_count": 26,
     "metadata": {
      "text/plain": ""
     },
     "output_type": "execute_result"
    }
   ],
   "source": [
    "b:=ShallowCopy(a);"
   ]
  },
  {
   "cell_type": "code",
   "execution_count": 27,
   "metadata": {
    "vscode": {
     "languageId": "gap 4"
    }
   },
   "outputs": [
    {
     "data": {
      "text/plain": [
       "3"
      ]
     },
     "execution_count": 27,
     "metadata": {
      "text/plain": ""
     },
     "output_type": "execute_result"
    }
   ],
   "source": [
    "b[2]:=3;"
   ]
  },
  {
   "cell_type": "code",
   "execution_count": 28,
   "metadata": {
    "vscode": {
     "languageId": "gap 4"
    }
   },
   "outputs": [
    {
     "data": {
      "text/plain": [
       "[ 1, 3 ]"
      ]
     },
     "execution_count": 28,
     "metadata": {
      "text/plain": ""
     },
     "output_type": "execute_result"
    }
   ],
   "source": [
    "b;"
   ]
  },
  {
   "cell_type": "code",
   "execution_count": 29,
   "metadata": {
    "vscode": {
     "languageId": "gap 4"
    }
   },
   "outputs": [
    {
     "data": {
      "text/plain": [
       "[ 1, \"a\" ]"
      ]
     },
     "execution_count": 29,
     "metadata": {
      "text/plain": ""
     },
     "output_type": "execute_result"
    }
   ],
   "source": [
    "a;"
   ]
  },
  {
   "cell_type": "markdown",
   "metadata": {},
   "source": [
    "There are many ways to define and modify lists, some examples are given below."
   ]
  },
  {
   "cell_type": "code",
   "execution_count": 30,
   "metadata": {
    "vscode": {
     "languageId": "gap 4"
    }
   },
   "outputs": [
    {
     "data": {
      "text/plain": [
       "[ 1, \"a\" ]"
      ]
     },
     "execution_count": 30,
     "metadata": {
      "text/plain": ""
     },
     "output_type": "execute_result"
    }
   ],
   "source": [
    "a:=[1,\"a\"];"
   ]
  },
  {
   "cell_type": "markdown",
   "metadata": {},
   "source": [
    "To append to `a` the elements of another list, we can use `Append`:"
   ]
  },
  {
   "cell_type": "code",
   "execution_count": 31,
   "metadata": {
    "vscode": {
     "languageId": "gap 4"
    }
   },
   "outputs": [],
   "source": [
    "Append(a,[2,3]);"
   ]
  },
  {
   "cell_type": "code",
   "execution_count": 32,
   "metadata": {
    "vscode": {
     "languageId": "gap 4"
    }
   },
   "outputs": [
    {
     "data": {
      "text/plain": [
       "[ 1, \"a\", 2, 3 ]"
      ]
     },
     "execution_count": 32,
     "metadata": {
      "text/plain": ""
     },
     "output_type": "execute_result"
    }
   ],
   "source": [
    "a;"
   ]
  },
  {
   "cell_type": "markdown",
   "metadata": {},
   "source": [
    "If we want to add an element at the end of our list, we use `Add`."
   ]
  },
  {
   "cell_type": "code",
   "execution_count": 33,
   "metadata": {
    "vscode": {
     "languageId": "gap 4"
    }
   },
   "outputs": [],
   "source": [
    "Add(a,5);"
   ]
  },
  {
   "cell_type": "code",
   "execution_count": 34,
   "metadata": {
    "vscode": {
     "languageId": "gap 4"
    }
   },
   "outputs": [
    {
     "data": {
      "text/plain": [
       "[ 1, \"a\", 2, 3, 5 ]"
      ]
     },
     "execution_count": 34,
     "metadata": {
      "text/plain": ""
     },
     "output_type": "execute_result"
    }
   ],
   "source": [
    "a;"
   ]
  },
  {
   "cell_type": "markdown",
   "metadata": {},
   "source": [
    "`Concatenation` returns a new list from two given lists, concatenating them without modifying them."
   ]
  },
  {
   "cell_type": "code",
   "execution_count": 35,
   "metadata": {
    "vscode": {
     "languageId": "gap 4"
    }
   },
   "outputs": [
    {
     "data": {
      "text/plain": [
       "[ 1, \"a\", 2, 3, 5, 8, 9 ]"
      ]
     },
     "execution_count": 35,
     "metadata": {
      "text/plain": ""
     },
     "output_type": "execute_result"
    }
   ],
   "source": [
    "Concatenation(a,[8,9]);"
   ]
  },
  {
   "cell_type": "code",
   "execution_count": 36,
   "metadata": {
    "vscode": {
     "languageId": "gap 4"
    }
   },
   "outputs": [
    {
     "data": {
      "text/plain": [
       "[ 1, \"a\", 2, 3, 5 ]"
      ]
     },
     "execution_count": 36,
     "metadata": {
      "text/plain": ""
     },
     "output_type": "execute_result"
    }
   ],
   "source": [
    "a;"
   ]
  },
  {
   "cell_type": "markdown",
   "metadata": {},
   "source": [
    "Filtered` can be used to filter the elements of a list that meet a given condition."
   ]
  },
  {
   "cell_type": "code",
   "execution_count": 37,
   "metadata": {
    "vscode": {
     "languageId": "gap 4"
    }
   },
   "outputs": [
    {
     "data": {
      "text/plain": [
       "[ 2, 3, 5, 7, 11, 13, 17, 19, 23, 29, 31, 37, 41, 43, 47, 53, 59, 61, 67, 71, 73, 79, 83, 89, 97 ]"
      ]
     },
     "execution_count": 37,
     "metadata": {
      "text/plain": ""
     },
     "output_type": "execute_result"
    }
   ],
   "source": [
    "l:=Filtered([1..100],IsPrime);"
   ]
  },
  {
   "cell_type": "markdown",
   "metadata": {},
   "source": [
    "We can also apply a function to all the elements of a list."
   ]
  },
  {
   "cell_type": "code",
   "execution_count": 38,
   "metadata": {
    "scrolled": true,
    "vscode": {
     "languageId": "gap 4"
    }
   },
   "outputs": [
    {
     "data": {
      "text/plain": [
       "[ 4, 9, 25, 49, 121, 169, 289, 361, 529, 841, 961, 1369, 1681, 1849, 2209, 2809, 3481, 3721, 4489, 5041, 5329, 6241, 6889, 7921, 9409 ]"
      ]
     },
     "execution_count": 38,
     "metadata": {
      "text/plain": ""
     },
     "output_type": "execute_result"
    }
   ],
   "source": [
    "List(l,x->x^2);"
   ]
  },
  {
   "cell_type": "markdown",
   "metadata": {},
   "source": [
    "Sometimes it is convenient to use sets instead of lists, as their elements are sorted (if they are comparable to each other) and the membership of an element is quicker to resolve. "
   ]
  },
  {
   "cell_type": "code",
   "execution_count": 39,
   "metadata": {
    "vscode": {
     "languageId": "gap 4"
    }
   },
   "outputs": [
    {
     "data": {
      "text/plain": [
       "[ 1, 2, 1, 2 ]"
      ]
     },
     "execution_count": 39,
     "metadata": {
      "text/plain": ""
     },
     "output_type": "execute_result"
    }
   ],
   "source": [
    "a:=[1,2,1,2];"
   ]
  },
  {
   "cell_type": "code",
   "execution_count": 40,
   "metadata": {
    "vscode": {
     "languageId": "gap 4"
    }
   },
   "outputs": [
    {
     "data": {
      "text/plain": [
       "[ 1, 2 ]"
      ]
     },
     "execution_count": 40,
     "metadata": {
      "text/plain": ""
     },
     "output_type": "execute_result"
    }
   ],
   "source": [
    "Set(a);"
   ]
  },
  {
   "cell_type": "code",
   "execution_count": 41,
   "metadata": {
    "vscode": {
     "languageId": "gap 4"
    }
   },
   "outputs": [
    {
     "data": {
      "text/plain": [
       "[ 1, 2, 1, 2 ]"
      ]
     },
     "execution_count": 41,
     "metadata": {
      "text/plain": ""
     },
     "output_type": "execute_result"
    }
   ],
   "source": [
    "a;"
   ]
  },
  {
   "cell_type": "code",
   "execution_count": 42,
   "metadata": {
    "vscode": {
     "languageId": "gap 4"
    }
   },
   "outputs": [
    {
     "data": {
      "text/plain": [
       "false"
      ]
     },
     "execution_count": 42,
     "metadata": {
      "text/plain": ""
     },
     "output_type": "execute_result"
    }
   ],
   "source": [
    "3 in a;"
   ]
  },
  {
   "cell_type": "markdown",
   "metadata": {},
   "source": [
    "There are certain commands whose output is a set."
   ]
  },
  {
   "cell_type": "code",
   "execution_count": 43,
   "metadata": {
    "vscode": {
     "languageId": "gap 4"
    }
   },
   "outputs": [
    {
     "data": {
      "text/plain": [
       "[ 1, 2 ]"
      ]
     },
     "execution_count": 43,
     "metadata": {
      "text/plain": ""
     },
     "output_type": "execute_result"
    }
   ],
   "source": [
    "a:=[1,2];"
   ]
  },
  {
   "cell_type": "code",
   "execution_count": 44,
   "metadata": {
    "vscode": {
     "languageId": "gap 4"
    }
   },
   "outputs": [
    {
     "data": {
      "text/plain": [
       "[ 2, 3 ]"
      ]
     },
     "execution_count": 44,
     "metadata": {
      "text/plain": ""
     },
     "output_type": "execute_result"
    }
   ],
   "source": [
    "b:=[2,3];"
   ]
  },
  {
   "cell_type": "code",
   "execution_count": 45,
   "metadata": {
    "vscode": {
     "languageId": "gap 4"
    }
   },
   "outputs": [
    {
     "data": {
      "text/plain": [
       "[ 1, 2, 3 ]"
      ]
     },
     "execution_count": 45,
     "metadata": {
      "text/plain": ""
     },
     "output_type": "execute_result"
    }
   ],
   "source": [
    "u:=Union(a,b);"
   ]
  },
  {
   "cell_type": "code",
   "execution_count": 46,
   "metadata": {
    "vscode": {
     "languageId": "gap 4"
    }
   },
   "outputs": [
    {
     "data": {
      "text/plain": [
       "true"
      ]
     },
     "execution_count": 46,
     "metadata": {
      "text/plain": ""
     },
     "output_type": "execute_result"
    }
   ],
   "source": [
    "IsSet(u);"
   ]
  },
  {
   "cell_type": "code",
   "execution_count": 47,
   "metadata": {
    "vscode": {
     "languageId": "gap 4"
    }
   },
   "outputs": [
    {
     "data": {
      "text/plain": [
       "[ 2 ]"
      ]
     },
     "execution_count": 47,
     "metadata": {
      "text/plain": ""
     },
     "output_type": "execute_result"
    }
   ],
   "source": [
    "Intersection(a,b);"
   ]
  },
  {
   "cell_type": "markdown",
   "metadata": {},
   "source": [
    "### Ranges\n",
    "\n",
    "The use of `..` can be used in a variety of ways, and captures the idea of range."
   ]
  },
  {
   "cell_type": "code",
   "execution_count": 48,
   "metadata": {
    "scrolled": true,
    "vscode": {
     "languageId": "gap 4"
    }
   },
   "outputs": [
    {
     "data": {
      "text/plain": [
       "[ 1, 2, 3, 4, 5, 6, 7, 8, 9, 10, 11, 12, 13, 14, 15, 16, 17, 18, 19, 20 ]"
      ]
     },
     "execution_count": 48,
     "metadata": {
      "text/plain": ""
     },
     "output_type": "execute_result"
    }
   ],
   "source": [
    "l:=[1..20];"
   ]
  },
  {
   "cell_type": "code",
   "execution_count": 49,
   "metadata": {
    "scrolled": true,
    "vscode": {
     "languageId": "gap 4"
    }
   },
   "outputs": [
    {
     "data": {
      "text/plain": [
       "[ 3, 5, 7, 9 ]"
      ]
     },
     "execution_count": 49,
     "metadata": {
      "text/plain": ""
     },
     "output_type": "execute_result"
    }
   ],
   "source": [
    "l{[3,5..9]};"
   ]
  },
  {
   "cell_type": "code",
   "execution_count": 50,
   "metadata": {
    "vscode": {
     "languageId": "gap 4"
    }
   },
   "outputs": [
    {
     "data": {
      "text/plain": [
       "[ 1, 4, 9, 16, 25, 36, 49, 64, 81, 100, 121, 144, 169, 196, 225, 256, 289, 324, 361, 400 ]"
      ]
     },
     "execution_count": 50,
     "metadata": {
      "text/plain": ""
     },
     "output_type": "execute_result"
    }
   ],
   "source": [
    "lc:=List(l,x->x^2);"
   ]
  },
  {
   "cell_type": "code",
   "execution_count": 51,
   "metadata": {
    "vscode": {
     "languageId": "gap 4"
    }
   },
   "outputs": [
    {
     "data": {
      "text/plain": [
       "[ 400, 361, 324, 289, 256, 225, 196, 169, 144, 121, 100 ]"
      ]
     },
     "execution_count": 51,
     "metadata": {
      "text/plain": ""
     },
     "output_type": "execute_result"
    }
   ],
   "source": [
    "lc{[20,19..10]};"
   ]
  },
  {
   "cell_type": "markdown",
   "metadata": {},
   "source": [
    "## Registers\n",
    "\n",
    "In `gap` we can create records with custom fields using `rec`."
   ]
  },
  {
   "cell_type": "code",
   "execution_count": 52,
   "metadata": {
    "vscode": {
     "languageId": "gap 4"
    }
   },
   "outputs": [
    {
     "data": {
      "text/plain": [
       "rec( a := 1, b := \"2\" )"
      ]
     },
     "execution_count": 52,
     "metadata": {},
     "output_type": "execute_result"
    }
   ],
   "source": [
    "r:=rec(a:=1,b:=\"2\");"
   ]
  },
  {
   "cell_type": "markdown",
   "metadata": {},
   "source": [
    "We can add new fields, or modify existing ones, simply by assigning them a value."
   ]
  },
  {
   "cell_type": "code",
   "execution_count": 53,
   "metadata": {
    "vscode": {
     "languageId": "gap 4"
    }
   },
   "outputs": [
    {
     "data": {
      "text/plain": [
       "rec( d := 1, e := 3 )"
      ]
     },
     "execution_count": 53,
     "metadata": {},
     "output_type": "execute_result"
    }
   ],
   "source": [
    "r.c:=rec(d:=1,e:=3);"
   ]
  },
  {
   "cell_type": "code",
   "execution_count": 54,
   "metadata": {
    "vscode": {
     "languageId": "gap 4"
    }
   },
   "outputs": [
    {
     "data": {
      "text/plain": [
       "rec( a := 1, b := \"2\", c := rec( d := 1, e := 3 ) )"
      ]
     },
     "execution_count": 54,
     "metadata": {},
     "output_type": "execute_result"
    }
   ],
   "source": [
    "r;"
   ]
  },
  {
   "cell_type": "code",
   "execution_count": 55,
   "metadata": {
    "vscode": {
     "languageId": "gap 4"
    }
   },
   "outputs": [
    {
     "data": {
      "text/plain": [
       "5"
      ]
     },
     "execution_count": 55,
     "metadata": {
      "text/plain": ""
     },
     "output_type": "execute_result"
    }
   ],
   "source": [
    "r.a:=5;"
   ]
  },
  {
   "cell_type": "code",
   "execution_count": 56,
   "metadata": {
    "vscode": {
     "languageId": "gap 4"
    }
   },
   "outputs": [
    {
     "data": {
      "text/plain": [
       "rec( a := 5, b := \"2\", c := rec( d := 1, e := 3 ) )"
      ]
     },
     "execution_count": 56,
     "metadata": {},
     "output_type": "execute_result"
    }
   ],
   "source": [
    "r;"
   ]
  },
  {
   "cell_type": "markdown",
   "metadata": {},
   "source": [
    "To access a field value, we use `.`."
   ]
  },
  {
   "cell_type": "code",
   "execution_count": 57,
   "metadata": {
    "vscode": {
     "languageId": "gap 4"
    }
   },
   "outputs": [
    {
     "data": {
      "text/plain": [
       "1"
      ]
     },
     "execution_count": 57,
     "metadata": {
      "text/plain": ""
     },
     "output_type": "execute_result"
    }
   ],
   "source": [
    "r.c.d;"
   ]
  },
  {
   "cell_type": "markdown",
   "metadata": {},
   "source": [
    "We can see the fields defined with `RecNames`."
   ]
  },
  {
   "cell_type": "code",
   "execution_count": 58,
   "metadata": {
    "vscode": {
     "languageId": "gap 4"
    }
   },
   "outputs": [
    {
     "data": {
      "text/plain": [
       "[ \"b\", \"a\", \"c\" ]"
      ]
     },
     "execution_count": 58,
     "metadata": {
      "text/plain": ""
     },
     "output_type": "execute_result"
    }
   ],
   "source": [
    "RecNames(r);"
   ]
  },
  {
   "cell_type": "markdown",
   "metadata": {},
   "source": [
    "Or see whether a field is assigned or not"
   ]
  },
  {
   "cell_type": "code",
   "execution_count": 59,
   "metadata": {
    "vscode": {
     "languageId": "gap 4"
    }
   },
   "outputs": [
    {
     "data": {
      "text/plain": [
       "false"
      ]
     },
     "execution_count": 59,
     "metadata": {
      "text/plain": ""
     },
     "output_type": "execute_result"
    }
   ],
   "source": [
    "IsBound(r.g);"
   ]
  },
  {
   "cell_type": "code",
   "execution_count": 60,
   "metadata": {
    "vscode": {
     "languageId": "gap 4"
    }
   },
   "outputs": [],
   "source": [
    "Unbind(r.b);"
   ]
  },
  {
   "cell_type": "code",
   "execution_count": 61,
   "metadata": {
    "vscode": {
     "languageId": "gap 4"
    }
   },
   "outputs": [
    {
     "data": {
      "text/plain": [
       "rec( a := 5, c := rec( d := 1, e := 3 ) )"
      ]
     },
     "execution_count": 61,
     "metadata": {},
     "output_type": "execute_result"
    }
   ],
   "source": [
    "r;"
   ]
  },
  {
   "cell_type": "markdown",
   "metadata": {},
   "source": [
    "As with lists, if you want to make a copy, it is advisable to use `ShallowCopy`."
   ]
  },
  {
   "cell_type": "code",
   "execution_count": 62,
   "metadata": {
    "vscode": {
     "languageId": "gap 4"
    }
   },
   "outputs": [
    {
     "data": {
      "text/plain": [
       "rec( a := 5, c := rec( d := 1, e := 3 ) )"
      ]
     },
     "execution_count": 62,
     "metadata": {},
     "output_type": "execute_result"
    }
   ],
   "source": [
    "rr:=ShallowCopy(r);"
   ]
  },
  {
   "cell_type": "code",
   "execution_count": 63,
   "metadata": {
    "vscode": {
     "languageId": "gap 4"
    }
   },
   "outputs": [
    {
     "data": {
      "text/plain": [
       "4"
      ]
     },
     "execution_count": 63,
     "metadata": {
      "text/plain": ""
     },
     "output_type": "execute_result"
    }
   ],
   "source": [
    "rr.c.d:=4;"
   ]
  },
  {
   "cell_type": "code",
   "execution_count": 64,
   "metadata": {
    "vscode": {
     "languageId": "gap 4"
    }
   },
   "outputs": [
    {
     "data": {
      "text/plain": [
       "rec( a := 5, c := rec( d := 4, e := 3 ) )"
      ]
     },
     "execution_count": 64,
     "metadata": {},
     "output_type": "execute_result"
    }
   ],
   "source": [
    "r;"
   ]
  },
  {
   "cell_type": "markdown",
   "metadata": {},
   "source": [
    "The problem here is that `r` itself contains another record. To avoid this, we use `StructuralCopy`."
   ]
  },
  {
   "cell_type": "code",
   "execution_count": 65,
   "metadata": {
    "vscode": {
     "languageId": "gap 4"
    }
   },
   "outputs": [
    {
     "data": {
      "text/plain": [
       "rec( a := 5, c := rec( d := 4, e := 3 ) )"
      ]
     },
     "execution_count": 65,
     "metadata": {},
     "output_type": "execute_result"
    }
   ],
   "source": [
    "rr:=StructuralCopy(r);"
   ]
  },
  {
   "cell_type": "code",
   "execution_count": 66,
   "metadata": {
    "vscode": {
     "languageId": "gap 4"
    }
   },
   "outputs": [
    {
     "data": {
      "text/plain": [
       "1"
      ]
     },
     "execution_count": 66,
     "metadata": {
      "text/plain": ""
     },
     "output_type": "execute_result"
    }
   ],
   "source": [
    "rr.c.d:=1;"
   ]
  },
  {
   "cell_type": "code",
   "execution_count": 67,
   "metadata": {
    "vscode": {
     "languageId": "gap 4"
    }
   },
   "outputs": [
    {
     "data": {
      "text/plain": [
       "rec( a := 5, c := rec( d := 4, e := 3 ) )"
      ]
     },
     "execution_count": 67,
     "metadata": {},
     "output_type": "execute_result"
    }
   ],
   "source": [
    "r;"
   ]
  },
  {
   "cell_type": "code",
   "execution_count": 68,
   "metadata": {
    "vscode": {
     "languageId": "gap 4"
    }
   },
   "outputs": [
    {
     "data": {
      "text/plain": [
       "rec( a := 5, c := rec( d := 1, e := 3 ) )"
      ]
     },
     "execution_count": 68,
     "metadata": {},
     "output_type": "execute_result"
    }
   ],
   "source": [
    "rr;"
   ]
  },
  {
   "cell_type": "markdown",
   "metadata": {},
   "source": [
    "# Some programming examples\n",
    "\n",
    "In `gap` you can use commands like `for`, `while`, `repeat` ... `until` to make loops.  \n",
    "\n",
    "Let us see how to define the factorial in different ways, using different implementation styles."
   ]
  },
  {
   "cell_type": "code",
   "execution_count": 69,
   "metadata": {
    "vscode": {
     "languageId": "gap 4"
    }
   },
   "outputs": [
    {
     "data": {
      "text/plain": [
       "function( x ) ... end"
      ]
     },
     "execution_count": 69,
     "metadata": {
      "text/plain": ""
     },
     "output_type": "execute_result"
    }
   ],
   "source": [
    "f:=function(x)\n",
    "    local p, i; #variable local para el producto parcial y contador\n",
    "    \n",
    "    p:=1;\n",
    "    for i in [1..x] do\n",
    "        p:=p*i;\n",
    "    od; #final de bucle\n",
    "    \n",
    "    return p; #salida\n",
    "end;"
   ]
  },
  {
   "cell_type": "code",
   "execution_count": 70,
   "metadata": {
    "vscode": {
     "languageId": "gap 4"
    }
   },
   "outputs": [
    {
     "data": {
      "text/plain": [
       "6"
      ]
     },
     "execution_count": 70,
     "metadata": {
      "text/plain": ""
     },
     "output_type": "execute_result"
    }
   ],
   "source": [
    "f(3);"
   ]
  },
  {
   "cell_type": "markdown",
   "metadata": {},
   "source": [
    "Recursively..."
   ]
  },
  {
   "cell_type": "code",
   "execution_count": 71,
   "metadata": {
    "vscode": {
     "languageId": "gap 4"
    }
   },
   "outputs": [
    {
     "data": {
      "text/plain": [
       "function( x ) ... end"
      ]
     },
     "execution_count": 71,
     "metadata": {
      "text/plain": ""
     },
     "output_type": "execute_result"
    }
   ],
   "source": [
    "f:=function(x)\n",
    "\n",
    "    if x=0 then\n",
    "        return 1;\n",
    "    fi;\n",
    "    \n",
    "    return x*f(x-1);\n",
    "end;"
   ]
  },
  {
   "cell_type": "code",
   "execution_count": 72,
   "metadata": {
    "vscode": {
     "languageId": "gap 4"
    }
   },
   "outputs": [
    {
     "data": {
      "text/plain": [
       "93326215443944152681699238856266700490715968264381621468592963895217599993229915608941463976156518286253697920827223758251185210916864000000000000000000000000"
      ]
     },
     "execution_count": 72,
     "metadata": {
      "text/plain": ""
     },
     "output_type": "execute_result"
    }
   ],
   "source": [
    "f(100);"
   ]
  },
  {
   "cell_type": "markdown",
   "metadata": {},
   "source": [
    "Using list-specific functions and $\\lambda$-expressions ..."
   ]
  },
  {
   "cell_type": "code",
   "execution_count": 73,
   "metadata": {
    "vscode": {
     "languageId": "gap 4"
    }
   },
   "outputs": [
    {
     "data": {
      "text/plain": [
       "function( x ) ... end"
      ]
     },
     "execution_count": 73,
     "metadata": {
      "text/plain": ""
     },
     "output_type": "execute_result"
    }
   ],
   "source": [
    "f:=x->Product([1..x]);"
   ]
  },
  {
   "cell_type": "code",
   "execution_count": 74,
   "metadata": {
    "vscode": {
     "languageId": "gap 4"
    }
   },
   "outputs": [
    {
     "data": {
      "text/plain": [
       "57133839564458545904789328652610540031895535786011264182548375833179829124845398393126574488675311145377107878746854204162666250198684504466355949195922066574942592095735778929325357290444962472405416790722118445437122269675520000000000000000000000000000000000000"
      ]
     },
     "execution_count": 74,
     "metadata": {
      "text/plain": ""
     },
     "output_type": "execute_result"
    }
   ],
   "source": [
    "f(150);"
   ]
  },
  {
   "cell_type": "markdown",
   "metadata": {},
   "source": [
    "We now calculate the first perfect integer, and the perfect integers between 1 and 100000. For this we will use `First`."
   ]
  },
  {
   "cell_type": "code",
   "execution_count": 75,
   "metadata": {
    "vscode": {
     "languageId": "gap 4"
    }
   },
   "outputs": [
    {
     "data": {
      "text/plain": [
       "function( x ) ... end"
      ]
     },
     "execution_count": 75,
     "metadata": {
      "text/plain": ""
     },
     "output_type": "execute_result"
    }
   ],
   "source": [
    "es_perfecto:=x->(Sum(DivisorsInt(x))=2*x);"
   ]
  },
  {
   "cell_type": "code",
   "execution_count": 76,
   "metadata": {
    "vscode": {
     "languageId": "gap 4"
    }
   },
   "outputs": [
    {
     "data": {
      "text/plain": [
       "6"
      ]
     },
     "execution_count": 76,
     "metadata": {
      "text/plain": ""
     },
     "output_type": "execute_result"
    }
   ],
   "source": [
    "First([1..200],es_perfecto);"
   ]
  },
  {
   "cell_type": "code",
   "execution_count": 77,
   "metadata": {
    "vscode": {
     "languageId": "gap 4"
    }
   },
   "outputs": [
    {
     "data": {
      "text/plain": [
       "[ 6, 28, 496 ]"
      ]
     },
     "execution_count": 77,
     "metadata": {
      "text/plain": ""
     },
     "output_type": "execute_result"
    }
   ],
   "source": [
    "Filtered([1..1000],es_perfecto);"
   ]
  },
  {
   "cell_type": "markdown",
   "metadata": {},
   "source": [
    "Let us see if all the numbers between 100 and 500 are perfect, or if there are any."
   ]
  },
  {
   "cell_type": "code",
   "execution_count": 78,
   "metadata": {
    "vscode": {
     "languageId": "gap 4"
    }
   },
   "outputs": [
    {
     "data": {
      "text/plain": [
       "false"
      ]
     },
     "execution_count": 78,
     "metadata": {
      "text/plain": ""
     },
     "output_type": "execute_result"
    }
   ],
   "source": [
    "ForAll([100..500], es_perfecto);"
   ]
  },
  {
   "cell_type": "code",
   "execution_count": 79,
   "metadata": {
    "vscode": {
     "languageId": "gap 4"
    }
   },
   "outputs": [
    {
     "data": {
      "text/plain": [
       "true"
      ]
     },
     "execution_count": 79,
     "metadata": {
      "text/plain": ""
     },
     "output_type": "execute_result"
    }
   ],
   "source": [
    "ForAny([100..500], es_perfecto);"
   ]
  },
  {
   "cell_type": "markdown",
   "metadata": {},
   "source": [
    "We do something similar with pairs of friendly numbers."
   ]
  },
  {
   "cell_type": "code",
   "execution_count": 80,
   "metadata": {
    "vscode": {
     "languageId": "gap 4"
    }
   },
   "outputs": [
    {
     "data": {
      "text/plain": [
       "function( x, y ) ... end"
      ]
     },
     "execution_count": 80,
     "metadata": {
      "text/plain": ""
     },
     "output_type": "execute_result"
    }
   ],
   "source": [
    "son_amigos:=function(x,y)\n",
    "    local dx, dy; #divisores de x e y\n",
    "    \n",
    "    if x=y or IsPrime(x) then \n",
    "        return false;\n",
    "    fi; #queremos buscar parejas distintas y que no sean primos\n",
    "    dx:=List(DivisorsInt(x)); \n",
    "    Remove(dx);; #le quitamos x\n",
    "    dy:=List(DivisorsInt(y));\n",
    "    Remove(dy);; #le quitamos y\n",
    "    return (Sum(dx)=y) and (x=Sum(dy));\n",
    "end;"
   ]
  },
  {
   "cell_type": "markdown",
   "metadata": {},
   "source": [
    "To see which numbers between 1 and 50 have friends, we write, for example, the following."
   ]
  },
  {
   "cell_type": "code",
   "execution_count": 81,
   "metadata": {
    "vscode": {
     "languageId": "gap 4"
    }
   },
   "outputs": [
    {
     "data": {
      "text/plain": [
       "[ 220 ]"
      ]
     },
     "execution_count": 81,
     "metadata": {
      "text/plain": ""
     },
     "output_type": "execute_result"
    }
   ],
   "source": [
    "l:=Filtered([1..250],x->ForAny([1..500],y->son_amigos(x,y)));"
   ]
  },
  {
   "cell_type": "code",
   "execution_count": 82,
   "metadata": {
    "scrolled": true,
    "vscode": {
     "languageId": "gap 4"
    }
   },
   "outputs": [
    {
     "data": {
      "text/plain": [
       "[ [ 220, 284 ] ]"
      ]
     },
     "execution_count": 82,
     "metadata": {
      "text/plain": ""
     },
     "output_type": "execute_result"
    }
   ],
   "source": [
    "List(l,x->[x,First([1..550],y->son_amigos(x,y))]);"
   ]
  },
  {
   "cell_type": "markdown",
   "metadata": {},
   "source": [
    "If we want to search in a larger list, we can use iterators."
   ]
  },
  {
   "cell_type": "code",
   "execution_count": 83,
   "metadata": {
    "scrolled": true,
    "vscode": {
     "languageId": "gap 4"
    }
   },
   "outputs": [
    {
     "data": {
      "text/plain": [
       "<object>"
      ]
     },
     "execution_count": 83,
     "metadata": {
      "text/plain": ""
     },
     "output_type": "execute_result"
    }
   ],
   "source": [
    "l:=IteratorOfCartesianProduct([1..1500],[1..1500]);"
   ]
  },
  {
   "cell_type": "code",
   "execution_count": 84,
   "metadata": {
    "vscode": {
     "languageId": "gap 4"
    }
   },
   "outputs": [
    {
     "name": "stdout",
     "output_type": "stream",
     "text": [
      "[ 220, 284 ]\n",
      "[ 1184, 1210 ]\n"
     ]
    }
   ],
   "source": [
    "for x in l do\n",
    "if (x[1]<x[2]) and son_amigos(x[1],x[2]) then\n",
    "    Print(x,\"\\n\");\n",
    "fi;\n",
    "od;"
   ]
  }
 ],
 "metadata": {
  "kernelspec": {
   "display_name": "GAP 4",
   "language": "gap",
   "name": "gap-4"
  },
  "language_info": {
   "codemirror_mode": "gap",
   "file_extension": ".g",
   "mimetype": "text/x-gap",
   "name": "GAP 4",
   "nbconvert_exporter": "",
   "pygments_lexer": "gap",
   "version": "4.10.0"
  }
 },
 "nbformat": 4,
 "nbformat_minor": 2
}
